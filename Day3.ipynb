{
 "cells": [
  {
   "cell_type": "markdown",
   "id": "f6310a32-b648-4d7c-a929-5199f5b5ca9b",
   "metadata": {},
   "source": [
    "# Let's Find Coronal Hole: Day 3"
   ]
  },
  {
   "cell_type": "markdown",
   "id": "06996f35-d676-4b89-872e-5393d2760a41",
   "metadata": {},
   "source": [
    "This notebook will help you create movies from your images. Making movies is the best way to look at how CH evolves.."
   ]
  },
  {
   "cell_type": "markdown",
   "id": "fe4c5dd3-4ab4-40b7-86c1-dec56ea4c987",
   "metadata": {},
   "source": [
    "First, let's import the library we need for making movies..."
   ]
  },
  {
   "cell_type": "code",
   "execution_count": null,
   "id": "07a5caa1-e51a-4258-b2e5-485338919988",
   "metadata": {},
   "outputs": [],
   "source": [
    "import cv2\n",
    "import os"
   ]
  },
  {
   "cell_type": "markdown",
   "id": "f9d530d5-dcff-44ae-89af-7fcb489f456a",
   "metadata": {},
   "source": [
    "Next, upload your images that you want to make movies to this google colab session. Please create a folder first then upload all images in that folder. You can do this using file tree on the left."
   ]
  },
  {
   "attachments": {},
   "cell_type": "markdown",
   "id": "a3056d29-e160-414e-b2f5-a96601228c1b",
   "metadata": {},
   "source": [
    "We can also name the video and set the FPS of video here. (There is an issue when set FPS > 1)"
   ]
  },
  {
   "cell_type": "code",
   "execution_count": null,
   "id": "b0d01a79-2d97-4d9a-9940-2e0aebcd495b",
   "metadata": {},
   "outputs": [],
   "source": [
    "image_folder = '/content/FigureAIA/' #Change path to your folder name\n",
    "video_name = 'CHBevolution_AIA.mp4' #Change to your desired video name (only accepted MP4 file)\n",
    "fps = 1 #Set frame rate"
   ]
  },
  {
   "cell_type": "markdown",
   "id": "3ee3e06c-25de-4dd1-9ed4-5afc137ae7e0",
   "metadata": {},
   "source": [
    "Then run these cells below to create movies."
   ]
  },
  {
   "cell_type": "code",
   "execution_count": null,
   "id": "c62379a0-eada-4539-a38f-9826844fb909",
   "metadata": {},
   "outputs": [],
   "source": [
    "images = [img for img in os.listdir(image_folder) if img.endswith(\".png\")] #change to .jpg if you save your images in JPEG\n",
    "images_list = [os.path.join(image_folder,i) for i in images]\n",
    "images_list.sort()\n",
    "frame = cv2.imread(images_list[0])\n",
    "height, width, layers = frame.shape\n",
    "dim = (width,height) # Dimension of video\n",
    "fourcc = cv2.VideoWriter_fourcc(*'mp4v')\n",
    "video = cv2.VideoWriter(video_name, fourcc, fps, (width,height))"
   ]
  },
  {
   "cell_type": "code",
   "execution_count": null,
   "id": "58c0f14f-421a-4374-8c41-463325fb004f",
   "metadata": {},
   "outputs": [],
   "source": [
    "for image in images_list:\n",
    "    img = cv2.imread(image)\n",
    "    img = cv2.resize(img, dim) #Resize the image to be the same size\n",
    "    video.write(img)"
   ]
  },
  {
   "cell_type": "code",
   "execution_count": null,
   "id": "e5750d2e-963b-4871-a407-4bc21584bcb0",
   "metadata": {},
   "outputs": [],
   "source": [
    "cv2.destroyAllWindows()\n",
    "video.release()"
   ]
  },
  {
   "cell_type": "markdown",
   "id": "7077c27b-f099-4409-9ad1-fb7fe8bf13d6",
   "metadata": {},
   "source": [
    "The video will appear on the file tree. Then you can download it to your computer"
   ]
  },
  {
   "cell_type": "code",
   "execution_count": null,
   "id": "87b8fd03-34cf-4a55-a464-362e7d85fdb6",
   "metadata": {},
   "outputs": [],
   "source": []
  }
 ],
 "metadata": {
  "kernelspec": {
   "display_name": "Python 3 (ipykernel)",
   "language": "python",
   "name": "python3"
  },
  "language_info": {
   "codemirror_mode": {
    "name": "ipython",
    "version": 3
   },
   "file_extension": ".py",
   "mimetype": "text/x-python",
   "name": "python",
   "nbconvert_exporter": "python",
   "pygments_lexer": "ipython3",
   "version": "3.8.13"
  }
 },
 "nbformat": 4,
 "nbformat_minor": 5
}
